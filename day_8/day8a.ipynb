{
 "cells": [
  {
   "cell_type": "markdown",
   "id": "f255daea-8fcb-41b0-a3cb-10a5939dba14",
   "metadata": {},
   "source": [
    "# Day 8: Part 1"
   ]
  },
  {
   "cell_type": "markdown",
   "id": "a0414fd2-9e61-4586-9561-d7ebf2785b81",
   "metadata": {},
   "source": [
    "### Immediately before any instruction is executed a second time, what value is in the accumulator?"
   ]
  },
  {
   "cell_type": "code",
   "execution_count": 30,
   "id": "f92256d2-3f87-42db-b24e-fe0353a59452",
   "metadata": {},
   "outputs": [
    {
     "name": "stdout",
     "output_type": "stream",
     "text": [
      "['nop +0', 'acc +1', 'jmp +4', 'acc +3', 'jmp -3', 'acc -99', 'acc +1', 'jmp -4', 'acc +6']\n"
     ]
    }
   ],
   "source": [
    "with open('test8.txt') as f:\n",
    "    text = f.readlines()\n",
    "    text = [line.strip() for line in text]\n",
    "\n",
    "print(text)"
   ]
  },
  {
   "cell_type": "code",
   "execution_count": 32,
   "id": "032a7890-dc78-4455-998b-9ab0cbd1a656",
   "metadata": {},
   "outputs": [],
   "source": [
    "text = [item.split(' ') for item in text]"
   ]
  },
  {
   "cell_type": "code",
   "execution_count": 33,
   "id": "62f59679-a215-4099-aa95-ff4cf3227c2b",
   "metadata": {},
   "outputs": [
    {
     "data": {
      "text/plain": [
       "[['nop', '+0'],\n",
       " ['acc', '+1'],\n",
       " ['jmp', '+4'],\n",
       " ['acc', '+3'],\n",
       " ['jmp', '-3'],\n",
       " ['acc', '-99'],\n",
       " ['acc', '+1'],\n",
       " ['jmp', '-4'],\n",
       " ['acc', '+6']]"
      ]
     },
     "execution_count": 33,
     "metadata": {},
     "output_type": "execute_result"
    }
   ],
   "source": [
    "text"
   ]
  },
  {
   "cell_type": "code",
   "execution_count": 36,
   "id": "a8fc4fa7-6723-4b7d-8cbe-079a8d435a70",
   "metadata": {},
   "outputs": [
    {
     "data": {
      "text/html": [
       "<div>\n",
       "<style scoped>\n",
       "    .dataframe tbody tr th:only-of-type {\n",
       "        vertical-align: middle;\n",
       "    }\n",
       "\n",
       "    .dataframe tbody tr th {\n",
       "        vertical-align: top;\n",
       "    }\n",
       "\n",
       "    .dataframe thead th {\n",
       "        text-align: right;\n",
       "    }\n",
       "</style>\n",
       "<table border=\"1\" class=\"dataframe\">\n",
       "  <thead>\n",
       "    <tr style=\"text-align: right;\">\n",
       "      <th></th>\n",
       "      <th>type</th>\n",
       "      <th>amount</th>\n",
       "    </tr>\n",
       "  </thead>\n",
       "  <tbody>\n",
       "    <tr>\n",
       "      <th>0</th>\n",
       "      <td>nop</td>\n",
       "      <td>+0</td>\n",
       "    </tr>\n",
       "    <tr>\n",
       "      <th>1</th>\n",
       "      <td>acc</td>\n",
       "      <td>+1</td>\n",
       "    </tr>\n",
       "    <tr>\n",
       "      <th>2</th>\n",
       "      <td>jmp</td>\n",
       "      <td>+4</td>\n",
       "    </tr>\n",
       "    <tr>\n",
       "      <th>3</th>\n",
       "      <td>acc</td>\n",
       "      <td>+3</td>\n",
       "    </tr>\n",
       "    <tr>\n",
       "      <th>4</th>\n",
       "      <td>jmp</td>\n",
       "      <td>-3</td>\n",
       "    </tr>\n",
       "    <tr>\n",
       "      <th>5</th>\n",
       "      <td>acc</td>\n",
       "      <td>-99</td>\n",
       "    </tr>\n",
       "    <tr>\n",
       "      <th>6</th>\n",
       "      <td>acc</td>\n",
       "      <td>+1</td>\n",
       "    </tr>\n",
       "    <tr>\n",
       "      <th>7</th>\n",
       "      <td>jmp</td>\n",
       "      <td>-4</td>\n",
       "    </tr>\n",
       "    <tr>\n",
       "      <th>8</th>\n",
       "      <td>acc</td>\n",
       "      <td>+6</td>\n",
       "    </tr>\n",
       "  </tbody>\n",
       "</table>\n",
       "</div>"
      ],
      "text/plain": [
       "  type amount\n",
       "0  nop     +0\n",
       "1  acc     +1\n",
       "2  jmp     +4\n",
       "3  acc     +3\n",
       "4  jmp     -3\n",
       "5  acc    -99\n",
       "6  acc     +1\n",
       "7  jmp     -4\n",
       "8  acc     +6"
      ]
     },
     "execution_count": 36,
     "metadata": {},
     "output_type": "execute_result"
    }
   ],
   "source": [
    "input_df = pd.DataFrame(text, columns=['type', 'amount'])\n",
    "input_df"
   ]
  },
  {
   "cell_type": "code",
   "execution_count": 37,
   "id": "9b36410a-248c-44f2-9ce2-906f2f13bf6c",
   "metadata": {},
   "outputs": [
    {
     "data": {
      "text/html": [
       "<div>\n",
       "<style scoped>\n",
       "    .dataframe tbody tr th:only-of-type {\n",
       "        vertical-align: middle;\n",
       "    }\n",
       "\n",
       "    .dataframe tbody tr th {\n",
       "        vertical-align: top;\n",
       "    }\n",
       "\n",
       "    .dataframe thead th {\n",
       "        text-align: right;\n",
       "    }\n",
       "</style>\n",
       "<table border=\"1\" class=\"dataframe\">\n",
       "  <thead>\n",
       "    <tr style=\"text-align: right;\">\n",
       "      <th></th>\n",
       "      <th>type</th>\n",
       "      <th>amount</th>\n",
       "      <th>visited?</th>\n",
       "    </tr>\n",
       "  </thead>\n",
       "  <tbody>\n",
       "    <tr>\n",
       "      <th>0</th>\n",
       "      <td>nop</td>\n",
       "      <td>+0</td>\n",
       "      <td>0</td>\n",
       "    </tr>\n",
       "    <tr>\n",
       "      <th>1</th>\n",
       "      <td>acc</td>\n",
       "      <td>+1</td>\n",
       "      <td>0</td>\n",
       "    </tr>\n",
       "    <tr>\n",
       "      <th>2</th>\n",
       "      <td>jmp</td>\n",
       "      <td>+4</td>\n",
       "      <td>0</td>\n",
       "    </tr>\n",
       "    <tr>\n",
       "      <th>3</th>\n",
       "      <td>acc</td>\n",
       "      <td>+3</td>\n",
       "      <td>0</td>\n",
       "    </tr>\n",
       "    <tr>\n",
       "      <th>4</th>\n",
       "      <td>jmp</td>\n",
       "      <td>-3</td>\n",
       "      <td>0</td>\n",
       "    </tr>\n",
       "    <tr>\n",
       "      <th>5</th>\n",
       "      <td>acc</td>\n",
       "      <td>-99</td>\n",
       "      <td>0</td>\n",
       "    </tr>\n",
       "    <tr>\n",
       "      <th>6</th>\n",
       "      <td>acc</td>\n",
       "      <td>+1</td>\n",
       "      <td>0</td>\n",
       "    </tr>\n",
       "    <tr>\n",
       "      <th>7</th>\n",
       "      <td>jmp</td>\n",
       "      <td>-4</td>\n",
       "      <td>0</td>\n",
       "    </tr>\n",
       "    <tr>\n",
       "      <th>8</th>\n",
       "      <td>acc</td>\n",
       "      <td>+6</td>\n",
       "      <td>0</td>\n",
       "    </tr>\n",
       "  </tbody>\n",
       "</table>\n",
       "</div>"
      ],
      "text/plain": [
       "  type amount  visited?\n",
       "0  nop     +0         0\n",
       "1  acc     +1         0\n",
       "2  jmp     +4         0\n",
       "3  acc     +3         0\n",
       "4  jmp     -3         0\n",
       "5  acc    -99         0\n",
       "6  acc     +1         0\n",
       "7  jmp     -4         0\n",
       "8  acc     +6         0"
      ]
     },
     "execution_count": 37,
     "metadata": {},
     "output_type": "execute_result"
    }
   ],
   "source": [
    "input_df['visited?'] = 0\n",
    "input_df"
   ]
  },
  {
   "cell_type": "code",
   "execution_count": 55,
   "id": "ce7d60d7-0bbc-4704-9d07-b705983fc749",
   "metadata": {},
   "outputs": [
    {
     "data": {
      "text/plain": [
       "'0'"
      ]
     },
     "execution_count": 55,
     "metadata": {},
     "output_type": "execute_result"
    }
   ],
   "source": [
    "list(input_df.iloc[0].values)[1][1:]"
   ]
  },
  {
   "cell_type": "markdown",
   "id": "7c6b18af-82b9-4dfd-b107-9f92cb05afef",
   "metadata": {},
   "source": [
    "**Write a function to interpret each line**"
   ]
  },
  {
   "cell_type": "code",
   "execution_count": 59,
   "id": "a0955387-7c41-405e-8b9b-d4978fa72f34",
   "metadata": {
    "tags": []
   },
   "outputs": [],
   "source": [
    "def handheld(i, accumulator=0):\n",
    "    instruction = list(input_df.iloc[i].values)[0]\n",
    "    sign = list(input_df.iloc[i].values)[1][0]\n",
    "    amount = int(list(input_df.iloc[i].values)[1][1:])\n",
    "    visited = list(input_df.iloc[i].values)[2]\n",
    "    if visited:\n",
    "        return accumulator\n",
    "    elif instruction == 'nop':\n",
    "        handheld(i+1)\n",
    "    elif instruction == 'acc':\n",
    "        if sign == '+':\n",
    "            accumulator += amount\n",
    "        if sign == '-':\n",
    "            accumulator -= amount\n",
    "        handheld(i+1)\n",
    "    elif instruction == 'jmp':\n",
    "        handheld(i+amount)"
   ]
  },
  {
   "cell_type": "code",
   "execution_count": 60,
   "id": "b42402f1-72e1-49eb-8185-bc692e908002",
   "metadata": {},
   "outputs": [
    {
     "ename": "IndexError",
     "evalue": "single positional indexer is out-of-bounds",
     "output_type": "error",
     "traceback": [
      "\u001b[0;31m---------------------------------------------------------------------------\u001b[0m\n\u001b[0;31mIndexError\u001b[0m                                Traceback (most recent call last)",
      "File \u001b[0;34m/Users/jessemarkowitz/opt/anaconda3/lib/python3.7/site-packages/IPython/core/interactiveshell.py\u001b[0m, in \u001b[0;32mrun_code\u001b[0m:\nLine \u001b[0;34m3437\u001b[0m:  exec(code_obj, \u001b[36mself\u001b[39;49;00m.user_global_ns, \u001b[36mself\u001b[39;49;00m.user_ns)\n",
      "In  \u001b[0;34m[60]\u001b[0m:\nLine \u001b[0;34m1\u001b[0m:     handheld(\u001b[34m0\u001b[39;49;00m)\n",
      "In  \u001b[0;34m[59]\u001b[0m:\nLine \u001b[0;34m9\u001b[0m:     handheld(i+\u001b[34m1\u001b[39;49;00m)\n",
      "In  \u001b[0;34m[59]\u001b[0m:\nLine \u001b[0;34m15\u001b[0m:    handheld(i+\u001b[34m1\u001b[39;49;00m)\n",
      "In  \u001b[0;34m[59]\u001b[0m:\nLine \u001b[0;34m17\u001b[0m:    handheld(i+amount)\n",
      "In  \u001b[0;34m[59]\u001b[0m:\nLine \u001b[0;34m15\u001b[0m:    handheld(i+\u001b[34m1\u001b[39;49;00m)\n",
      "In  \u001b[0;34m[59]\u001b[0m:\nLine \u001b[0;34m17\u001b[0m:    handheld(i+amount)\n",
      "In  \u001b[0;34m[59]\u001b[0m:\nLine \u001b[0;34m2\u001b[0m:     instruction = \u001b[36mlist\u001b[39;49;00m(input_df.iloc[i].values)[\u001b[34m0\u001b[39;49;00m]\n",
      "File \u001b[0;34m/Users/jessemarkowitz/opt/anaconda3/lib/python3.7/site-packages/pandas/core/indexing.py\u001b[0m, in \u001b[0;32m__getitem__\u001b[0m:\nLine \u001b[0;34m931\u001b[0m:   \u001b[34mreturn\u001b[39;49;00m \u001b[36mself\u001b[39;49;00m._getitem_axis(maybe_callable, axis=axis)\n",
      "File \u001b[0;34m/Users/jessemarkowitz/opt/anaconda3/lib/python3.7/site-packages/pandas/core/indexing.py\u001b[0m, in \u001b[0;32m_getitem_axis\u001b[0m:\nLine \u001b[0;34m1566\u001b[0m:  \u001b[36mself\u001b[39;49;00m._validate_integer(key, axis)\n",
      "File \u001b[0;34m/Users/jessemarkowitz/opt/anaconda3/lib/python3.7/site-packages/pandas/core/indexing.py\u001b[0m, in \u001b[0;32m_validate_integer\u001b[0m:\nLine \u001b[0;34m1500\u001b[0m:  \u001b[34mraise\u001b[39;49;00m \u001b[36mIndexError\u001b[39;49;00m(\u001b[33m\"\u001b[39;49;00m\u001b[33msingle positional indexer is out-of-bounds\u001b[39;49;00m\u001b[33m\"\u001b[39;49;00m)\n",
      "\u001b[0;31mIndexError\u001b[0m: single positional indexer is out-of-bounds\n\u001b[0;31m---------------------------------------------------------------------------\u001b[0m"
     ]
    }
   ],
   "source": [
    "handheld(0)"
   ]
  },
  {
   "cell_type": "code",
   "execution_count": null,
   "id": "41c589e2-f91f-461f-9148-f2300e0e1579",
   "metadata": {},
   "outputs": [],
   "source": []
  }
 ],
 "metadata": {
  "kernelspec": {
   "display_name": "Python 3.7 (XPython)",
   "language": "python",
   "name": "xpython"
  },
  "language_info": {
   "file_extension": ".py",
   "mimetype": "text/x-python",
   "name": "python",
   "version": "3.7.10"
  }
 },
 "nbformat": 4,
 "nbformat_minor": 5
}

{
 "cells": [
  {
   "cell_type": "markdown",
   "id": "f255daea-8fcb-41b0-a3cb-10a5939dba14",
   "metadata": {},
   "source": [
    "# Day 8: Part 2"
   ]
  },
  {
   "cell_type": "markdown",
   "id": "a0414fd2-9e61-4586-9561-d7ebf2785b81",
   "metadata": {},
   "source": [
    "#### Fix the program so that it terminates normally by changing exactly one jmp (to nop) or nop (to jmp). \n",
    "### What is the value of the accumulator after the program terminates?"
   ]
  },
  {
   "cell_type": "code",
   "execution_count": 4,
   "id": "f92256d2-3f87-42db-b24e-fe0353a59452",
   "metadata": {
    "scrolled": true,
    "tags": []
   },
   "outputs": [
    {
     "name": "stdout",
     "output_type": "stream",
     "text": [
      "['nop +0', 'acc +1', 'jmp +4', 'acc +3', 'jmp -3', 'acc -99', 'acc +1', 'jmp -4', 'acc +6']\n"
     ]
    }
   ],
   "source": [
    "with open('test8.txt') as f:\n",
    "    text = f.readlines()\n",
    "    text = [line.strip() for line in text]\n",
    "\n",
    "print(text)"
   ]
  },
  {
   "cell_type": "code",
   "execution_count": 5,
   "id": "032a7890-dc78-4455-998b-9ab0cbd1a656",
   "metadata": {},
   "outputs": [],
   "source": [
    "text = [item.split(' ') for item in text]"
   ]
  },
  {
   "cell_type": "code",
   "execution_count": 6,
   "id": "62f59679-a215-4099-aa95-ff4cf3227c2b",
   "metadata": {
    "scrolled": true,
    "tags": []
   },
   "outputs": [
    {
     "data": {
      "text/plain": [
       "[['nop', '+0'],\n",
       " ['acc', '+1'],\n",
       " ['jmp', '+4'],\n",
       " ['acc', '+3'],\n",
       " ['jmp', '-3'],\n",
       " ['acc', '-99'],\n",
       " ['acc', '+1'],\n",
       " ['jmp', '-4'],\n",
       " ['acc', '+6']]"
      ]
     },
     "execution_count": 6,
     "metadata": {},
     "output_type": "execute_result"
    }
   ],
   "source": [
    "text"
   ]
  },
  {
   "cell_type": "code",
   "execution_count": 7,
   "id": "a8fc4fa7-6723-4b7d-8cbe-079a8d435a70",
   "metadata": {},
   "outputs": [
    {
     "data": {
      "text/html": [
       "<div>\n",
       "<style scoped>\n",
       "    .dataframe tbody tr th:only-of-type {\n",
       "        vertical-align: middle;\n",
       "    }\n",
       "\n",
       "    .dataframe tbody tr th {\n",
       "        vertical-align: top;\n",
       "    }\n",
       "\n",
       "    .dataframe thead th {\n",
       "        text-align: right;\n",
       "    }\n",
       "</style>\n",
       "<table border=\"1\" class=\"dataframe\">\n",
       "  <thead>\n",
       "    <tr style=\"text-align: right;\">\n",
       "      <th></th>\n",
       "      <th>type</th>\n",
       "      <th>amount</th>\n",
       "    </tr>\n",
       "  </thead>\n",
       "  <tbody>\n",
       "    <tr>\n",
       "      <th>0</th>\n",
       "      <td>nop</td>\n",
       "      <td>+0</td>\n",
       "    </tr>\n",
       "    <tr>\n",
       "      <th>1</th>\n",
       "      <td>acc</td>\n",
       "      <td>+1</td>\n",
       "    </tr>\n",
       "    <tr>\n",
       "      <th>2</th>\n",
       "      <td>jmp</td>\n",
       "      <td>+4</td>\n",
       "    </tr>\n",
       "    <tr>\n",
       "      <th>3</th>\n",
       "      <td>acc</td>\n",
       "      <td>+3</td>\n",
       "    </tr>\n",
       "    <tr>\n",
       "      <th>4</th>\n",
       "      <td>jmp</td>\n",
       "      <td>-3</td>\n",
       "    </tr>\n",
       "    <tr>\n",
       "      <th>5</th>\n",
       "      <td>acc</td>\n",
       "      <td>-99</td>\n",
       "    </tr>\n",
       "    <tr>\n",
       "      <th>6</th>\n",
       "      <td>acc</td>\n",
       "      <td>+1</td>\n",
       "    </tr>\n",
       "    <tr>\n",
       "      <th>7</th>\n",
       "      <td>jmp</td>\n",
       "      <td>-4</td>\n",
       "    </tr>\n",
       "    <tr>\n",
       "      <th>8</th>\n",
       "      <td>acc</td>\n",
       "      <td>+6</td>\n",
       "    </tr>\n",
       "  </tbody>\n",
       "</table>\n",
       "</div>"
      ],
      "text/plain": [
       "  type amount\n",
       "0  nop     +0\n",
       "1  acc     +1\n",
       "2  jmp     +4\n",
       "3  acc     +3\n",
       "4  jmp     -3\n",
       "5  acc    -99\n",
       "6  acc     +1\n",
       "7  jmp     -4\n",
       "8  acc     +6"
      ]
     },
     "execution_count": 7,
     "metadata": {},
     "output_type": "execute_result"
    }
   ],
   "source": [
    "import pandas as pd\n",
    "input_df = pd.DataFrame(text, columns=['type', 'amount'])\n",
    "input_df"
   ]
  },
  {
   "cell_type": "code",
   "execution_count": 8,
   "id": "9b36410a-248c-44f2-9ce2-906f2f13bf6c",
   "metadata": {},
   "outputs": [
    {
     "data": {
      "text/html": [
       "<div>\n",
       "<style scoped>\n",
       "    .dataframe tbody tr th:only-of-type {\n",
       "        vertical-align: middle;\n",
       "    }\n",
       "\n",
       "    .dataframe tbody tr th {\n",
       "        vertical-align: top;\n",
       "    }\n",
       "\n",
       "    .dataframe thead th {\n",
       "        text-align: right;\n",
       "    }\n",
       "</style>\n",
       "<table border=\"1\" class=\"dataframe\">\n",
       "  <thead>\n",
       "    <tr style=\"text-align: right;\">\n",
       "      <th></th>\n",
       "      <th>type</th>\n",
       "      <th>amount</th>\n",
       "      <th>visited?</th>\n",
       "    </tr>\n",
       "  </thead>\n",
       "  <tbody>\n",
       "    <tr>\n",
       "      <th>0</th>\n",
       "      <td>nop</td>\n",
       "      <td>+0</td>\n",
       "      <td>0</td>\n",
       "    </tr>\n",
       "    <tr>\n",
       "      <th>1</th>\n",
       "      <td>acc</td>\n",
       "      <td>+1</td>\n",
       "      <td>0</td>\n",
       "    </tr>\n",
       "    <tr>\n",
       "      <th>2</th>\n",
       "      <td>jmp</td>\n",
       "      <td>+4</td>\n",
       "      <td>0</td>\n",
       "    </tr>\n",
       "    <tr>\n",
       "      <th>3</th>\n",
       "      <td>acc</td>\n",
       "      <td>+3</td>\n",
       "      <td>0</td>\n",
       "    </tr>\n",
       "    <tr>\n",
       "      <th>4</th>\n",
       "      <td>jmp</td>\n",
       "      <td>-3</td>\n",
       "      <td>0</td>\n",
       "    </tr>\n",
       "    <tr>\n",
       "      <th>5</th>\n",
       "      <td>acc</td>\n",
       "      <td>-99</td>\n",
       "      <td>0</td>\n",
       "    </tr>\n",
       "    <tr>\n",
       "      <th>6</th>\n",
       "      <td>acc</td>\n",
       "      <td>+1</td>\n",
       "      <td>0</td>\n",
       "    </tr>\n",
       "    <tr>\n",
       "      <th>7</th>\n",
       "      <td>jmp</td>\n",
       "      <td>-4</td>\n",
       "      <td>0</td>\n",
       "    </tr>\n",
       "    <tr>\n",
       "      <th>8</th>\n",
       "      <td>acc</td>\n",
       "      <td>+6</td>\n",
       "      <td>0</td>\n",
       "    </tr>\n",
       "  </tbody>\n",
       "</table>\n",
       "</div>"
      ],
      "text/plain": [
       "  type amount  visited?\n",
       "0  nop     +0         0\n",
       "1  acc     +1         0\n",
       "2  jmp     +4         0\n",
       "3  acc     +3         0\n",
       "4  jmp     -3         0\n",
       "5  acc    -99         0\n",
       "6  acc     +1         0\n",
       "7  jmp     -4         0\n",
       "8  acc     +6         0"
      ]
     },
     "execution_count": 8,
     "metadata": {},
     "output_type": "execute_result"
    }
   ],
   "source": [
    "input_df['visited?'] = 0\n",
    "input_df"
   ]
  },
  {
   "cell_type": "markdown",
   "id": "7c6b18af-82b9-4dfd-b107-9f92cb05afef",
   "metadata": {},
   "source": [
    "**Write a function to interpret each line**"
   ]
  },
  {
   "cell_type": "code",
   "execution_count": 9,
   "id": "eaee55ab-18ee-4095-ae50-0720271f2784",
   "metadata": {},
   "outputs": [],
   "source": [
    "accumulator = 0\n",
    "instruction = ''\n",
    "sign = ''\n",
    "amount = 0"
   ]
  },
  {
   "cell_type": "code",
   "execution_count": 11,
   "id": "85ec2edb-4b09-4faa-8158-6ff0b910a117",
   "metadata": {},
   "outputs": [],
   "source": [
    "def uncorrupt(i):\n",
    "    instruction = input_df.iloc[i]['type']\n",
    "    sign = input_df.iloc[i]['amount'][0]\n",
    "    amount = int(input_df.iloc[i]['amount'][1:])\n",
    "    \n",
    "    if instruction == 'nop':\n",
    "        input_df.at[i, 'type'] = 'jmp'\n",
    "    if instruction == 'jmp':\n",
    "        input_df.at[i, 'type'] = 'nop'\n",
    "    handheld(i)"
   ]
  },
  {
   "cell_type": "code",
   "execution_count": 12,
   "id": "a0955387-7c41-405e-8b9b-d4978fa72f34",
   "metadata": {
    "tags": []
   },
   "outputs": [],
   "source": [
    "def handheld(i):\n",
    "    global accumulator, instruction, sign, amount\n",
    "    # First check if you've already visited this row\n",
    "    # If you have, you're done! Return the accumulator\n",
    "    if input_df.iloc[i]['visited?'] == 1:\n",
    "        uncorrupt(i-)\n",
    "    \n",
    "    # Get the instruction and amount\n",
    "    instruction = input_df.iloc[i]['type']\n",
    "    sign = input_df.iloc[i]['amount'][0]\n",
    "    amount = int(input_df.iloc[i]['amount'][1:])\n",
    "        \n",
    "    # Follow the instructions!\n",
    "    if instruction == 'nop':\n",
    "        input_df.at[i, 'visited?'] = 1\n",
    "        handheld(i+1)\n",
    "        \n",
    "    elif instruction == 'acc':\n",
    "        input_df.at[i, 'visited?'] = 1\n",
    "        if sign == '+':\n",
    "            accumulator += amount\n",
    "            handheld(i+1)\n",
    "        if sign == '-':\n",
    "            accumulator -= amount\n",
    "            handheld(i+1)\n",
    "        \n",
    "    elif instruction == 'jmp':\n",
    "        input_df.at[i, 'visited?'] = 1\n",
    "        if sign == '+':\n",
    "            handheld(i+amount)\n",
    "        if sign == '-':\n",
    "            handheld(i-amount)"
   ]
  },
  {
   "cell_type": "code",
   "execution_count": null,
   "id": "b42402f1-72e1-49eb-8185-bc692e908002",
   "metadata": {},
   "outputs": [],
   "source": [
    "handheld(0)"
   ]
  },
  {
   "cell_type": "markdown",
   "id": "57383179-ec56-4b69-93d8-c61fb5f90f2a",
   "metadata": {},
   "source": [
    "***Currently, my idea is to call the previous frame on the stack (since handheld() is a recursive function) and then access the previous value of i from that...but there's probably an easier way (using global variables? maybe make one called 'last i'?)***"
   ]
  },
  {
   "cell_type": "code",
   "execution_count": null,
   "id": "3e6fe803-8c8a-4d1c-aba6-11c6eb641eb7",
   "metadata": {},
   "outputs": [],
   "source": []
  }
 ],
 "metadata": {
  "kernelspec": {
   "display_name": "Python 3.7 (XPython)",
   "language": "python",
   "name": "xpython"
  },
  "language_info": {
   "file_extension": ".py",
   "mimetype": "text/x-python",
   "name": "python",
   "version": "3.7.10"
  }
 },
 "nbformat": 4,
 "nbformat_minor": 5
}

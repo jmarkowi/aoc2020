{
 "cells": [
  {
   "cell_type": "markdown",
   "source": [
    "# Day 7"
   ],
   "metadata": {}
  },
  {
   "cell_type": "code",
   "execution_count": 1,
   "source": [
    "with open('test7.txt') as f:\n",
    "    text = f.readlines()\n",
    "    text = [line.strip() for line in text]\n",
    "\n",
    "print(text)"
   ],
   "outputs": [
    {
     "output_type": "stream",
     "name": "stdout",
     "text": [
      "['light red bags contain 1 bright white bag, 2 muted yellow bags.', 'dark orange bags contain 3 bright white bags, 4 muted yellow bags.', 'bright white bags contain 1 shiny gold bag.', 'muted yellow bags contain 2 shiny gold bags, 9 faded blue bags.', 'shiny gold bags contain 1 dark olive bag, 2 vibrant plum bags.', 'dark olive bags contain 3 faded blue bags, 4 dotted black bags.', 'vibrant plum bags contain 5 faded blue bags, 6 dotted black bags.', 'faded blue bags contain no other bags.', 'dotted black bags contain no other bags.']\n"
     ]
    }
   ],
   "metadata": {}
  },
  {
   "cell_type": "code",
   "execution_count": 2,
   "source": [
    "line0 = text[0]\n",
    "print(line0)"
   ],
   "outputs": [
    {
     "output_type": "stream",
     "name": "stdout",
     "text": [
      "light red bags contain 1 bright white bag, 2 muted yellow bags.\n"
     ]
    }
   ],
   "metadata": {}
  },
  {
   "cell_type": "markdown",
   "source": [
    "**Organize the bags in the rules as a dictionary as: `{parent_bag: [child_bag, child_bag]}`**"
   ],
   "metadata": {}
  },
  {
   "cell_type": "code",
   "execution_count": 3,
   "source": [
    "def extract_bags(line_list):\n",
    "    bag_names = []\n",
    "    for i, word in enumerate(line_list):\n",
    "        if word.isnumeric():\n",
    "            bag_names.append(line_list[i+1] + \" \" + line_list[i+2])\n",
    "    return bag_names"
   ],
   "outputs": [],
   "metadata": {}
  },
  {
   "cell_type": "code",
   "execution_count": 4,
   "source": [
    "extract_bags(line0.split())"
   ],
   "outputs": [
    {
     "output_type": "execute_result",
     "data": {
      "text/plain": [
       "['bright white', 'muted yellow']"
      ]
     },
     "metadata": {},
     "execution_count": 4
    }
   ],
   "metadata": {}
  },
  {
   "cell_type": "code",
   "execution_count": 5,
   "source": [
    "bags = {}\n",
    "for line in text:\n",
    "    line = line.split()\n",
    "    parent_bag = ' '.join(line[:2])\n",
    "    bags[parent_bag] = extract_bags(line)\n",
    "bags"
   ],
   "outputs": [
    {
     "output_type": "execute_result",
     "data": {
      "text/plain": [
       "{'light red': ['bright white', 'muted yellow'],\n",
       " 'dark orange': ['bright white', 'muted yellow'],\n",
       " 'bright white': ['shiny gold'],\n",
       " 'muted yellow': ['shiny gold', 'faded blue'],\n",
       " 'shiny gold': ['dark olive', 'vibrant plum'],\n",
       " 'dark olive': ['faded blue', 'dotted black'],\n",
       " 'vibrant plum': ['faded blue', 'dotted black'],\n",
       " 'faded blue': [],\n",
       " 'dotted black': []}"
      ]
     },
     "metadata": {},
     "execution_count": 5
    }
   ],
   "metadata": {
    "scrolled": true
   }
  },
  {
   "cell_type": "markdown",
   "source": [
    "**Recursively search the dictionary looking for gold bags**"
   ],
   "metadata": {}
  },
  {
   "cell_type": "code",
   "execution_count": 6,
   "source": [
    "target = 'shiny gold'\n",
    "bags_containing_gold = []\n",
    "\n",
    "def find_gold(parent_bag):\n",
    "    \n",
    "    # Look in a bag (key) for shiny gold (in value list)\n",
    "    for child_bag in bags[parent_bag]:\n",
    "        # If the bag has shiny gold, return True\n",
    "        # If not, find_gold() for each bag in the bag\n",
    "        return True if child_bag == target else find_gold(child_bag)"
   ],
   "outputs": [],
   "metadata": {}
  },
  {
   "cell_type": "code",
   "execution_count": 7,
   "source": [
    "for bag in bags:\n",
    "    if find_gold(bag):\n",
    "        bags_containing_gold.append(bag)\n",
    "    else:\n",
    "        continue\n",
    "len(set(bags_containing_gold))"
   ],
   "outputs": [
    {
     "output_type": "execute_result",
     "data": {
      "text/plain": [
       "4"
      ]
     },
     "metadata": {},
     "execution_count": 7
    }
   ],
   "metadata": {}
  },
  {
   "cell_type": "code",
   "execution_count": 8,
   "source": [
    "bags_containing_gold"
   ],
   "outputs": [
    {
     "output_type": "execute_result",
     "data": {
      "text/plain": [
       "['light red', 'dark orange', 'bright white', 'muted yellow']"
      ]
     },
     "metadata": {},
     "execution_count": 8
    }
   ],
   "metadata": {}
  },
  {
   "cell_type": "code",
   "execution_count": null,
   "source": [],
   "outputs": [],
   "metadata": {}
  }
 ],
 "metadata": {
  "kernelspec": {
   "name": "python3",
   "display_name": "Python 3.7.11 64-bit ('base': conda)"
  },
  "language_info": {
   "codemirror_mode": {
    "name": "ipython",
    "version": 3
   },
   "file_extension": ".py",
   "mimetype": "text/x-python",
   "name": "python",
   "nbconvert_exporter": "python",
   "pygments_lexer": "ipython3",
   "version": "3.7.11"
  },
  "interpreter": {
   "hash": "b673288c8e752bd400e15bcedef0ef7481cb520ee9627bc894ec09dc536eef15"
  }
 },
 "nbformat": 4,
 "nbformat_minor": 4
}